{
 "cells": [
  {
   "cell_type": "code",
   "execution_count": 1,
   "metadata": {
    "_cell_guid": "2c3412a4-039b-4229-9387-9321169f16eb",
    "_uuid": "8def9627e9d48b26de3159fc9a2ec38e854ab16e"
   },
   "outputs": [],
   "source": [
    "import numpy as np # linear algebra\n",
    "import pandas as pd # data processing, CSV file I/O (e.g. pd.read_csv)"
   ]
  },
  {
   "cell_type": "code",
   "execution_count": 2,
   "metadata": {},
   "outputs": [
    {
     "name": "stderr",
     "output_type": "stream",
     "text": [
      "Using TensorFlow backend.\n"
     ]
    }
   ],
   "source": [
    "from keras.utils import to_categorical\n",
    "import numpy as np\n",
    "import pandas as pd\n",
    "from sklearn.model_selection import train_test_split"
   ]
  },
  {
   "cell_type": "code",
   "execution_count": 3,
   "metadata": {},
   "outputs": [],
   "source": [
    "data_train = pd.read_csv('fashion-mnist_train.csv')#colu=label=y #2-last =data=x\n",
    "data_test = pd.read_csv('fashion-mnist_test.csv')"
   ]
  },
  {
   "cell_type": "code",
   "execution_count": 4,
   "metadata": {},
   "outputs": [],
   "source": [
    "img_rows, img_cols = 28, 28\n",
    "input_shape = (img_rows, img_cols, 1)"
   ]
  },
  {
   "cell_type": "code",
   "execution_count": 5,
   "metadata": {
    "_cell_guid": "dec05004-ccb3-490e-b588-27c0f4f06d1e",
    "_uuid": "41907ec74cae883fa8d56f6556cade5c67c8f3e0"
   },
   "outputs": [],
   "source": [
    "X = np.array(data_train.iloc[:, 1:])\n",
    "y = to_categorical(np.array(data_train.iloc[:, 0]))\n",
    "\n",
    "#Here we split validation data to optimiza classifier during training\n",
    "X_train, X_val, y_train, y_val = train_test_split(X, y, test_size=0.2, random_state=13)\n",
    "\n",
    "#Test data\n",
    "X_test = np.array(data_test.iloc[:, 1:])\n",
    "y_test = to_categorical(np.array(data_test.iloc[:, 0]))"
   ]
  },
  {
   "cell_type": "code",
   "execution_count": 6,
   "metadata": {},
   "outputs": [],
   "source": [
    "X_train = X_train.reshape(X_train.shape[0], img_rows, img_cols, 1)\n",
    "X_test = X_test.reshape(X_test.shape[0], img_rows, img_cols, 1)\n",
    "X_val = X_val.reshape(X_val.shape[0], img_rows, img_cols, 1)"
   ]
  },
  {
   "cell_type": "code",
   "execution_count": 7,
   "metadata": {},
   "outputs": [],
   "source": [
    "X_train = X_train.astype('float32')\n",
    "X_test = X_test.astype('float32')\n",
    "X_val = X_val.astype('float32')\n",
    "X_train /= 255\n",
    "X_test /= 255\n",
    "X_val /= 255"
   ]
  },
  {
   "cell_type": "code",
   "execution_count": 8,
   "metadata": {},
   "outputs": [],
   "source": [
    "import keras\n",
    "from keras.models import Sequential\n",
    "from keras.layers import Dense, Dropout, Flatten\n",
    "from keras.layers import Conv2D, MaxPooling2D\n",
    "from keras.layers.normalization import BatchNormalization"
   ]
  },
  {
   "cell_type": "code",
   "execution_count": 9,
   "metadata": {},
   "outputs": [],
   "source": [
    "batch_size = 256\n",
    "num_classes = 10\n",
    "epochs = 50 #iteration\n",
    "\n",
    "#input image dimensions\n",
    "img_rows, img_cols = 28, 28"
   ]
  },
  {
   "cell_type": "code",
   "execution_count": 10,
   "metadata": {
    "_cell_guid": "0599166d-b975-4c88-8b91-071a8f4fb0cd",
    "_uuid": "0e9db73157e2c0e481bf3d73892d8d29263aa56f"
   },
   "outputs": [],
   "source": [
    "model = Sequential()\n",
    "model.add(Conv2D(32, kernel_size=(3, 3),\n",
    "                 activation='relu',\n",
    "                 kernel_initializer='he_normal',\n",
    "                 input_shape=input_shape))\n",
    "\n",
    "model.add(MaxPooling2D((2, 2)))\n",
    "model.add(Dropout(0.25))\n",
    "model.add(Conv2D(64, (3, 3), activation='relu'))\n",
    "\n",
    "model.add(MaxPooling2D(pool_size=(2, 2)))\n",
    "model.add(Dropout(0.25))\n",
    "\n",
    "model.add(Conv2D(128, (3, 3), activation='relu'))\n",
    "model.add(Dropout(0.4))\n",
    "\n",
    "model.add(Flatten())\n",
    "model.add(Dense(128, activation='relu'))\n",
    "model.add(Dropout(0.3))\n",
    "model.add(Dense(num_classes, activation='softmax'))\n",
    "\n",
    "model.compile(loss=keras.losses.categorical_crossentropy,\n",
    "              optimizer=keras.optimizers.Adam(),\n",
    "              metrics=['accuracy'])"
   ]
  },
  {
   "cell_type": "code",
   "execution_count": 11,
   "metadata": {
    "_cell_guid": "4543df54-7373-49f8-a23a-6d8062eefe38",
    "_uuid": "9de535d8a446b7168ac3790445610425527c8a47"
   },
   "outputs": [
    {
     "name": "stdout",
     "output_type": "stream",
     "text": [
      "Model: \"sequential_1\"\n",
      "_________________________________________________________________\n",
      "Layer (type)                 Output Shape              Param #   \n",
      "=================================================================\n",
      "conv2d_1 (Conv2D)            (None, 26, 26, 32)        320       \n",
      "_________________________________________________________________\n",
      "max_pooling2d_1 (MaxPooling2 (None, 13, 13, 32)        0         \n",
      "_________________________________________________________________\n",
      "dropout_1 (Dropout)          (None, 13, 13, 32)        0         \n",
      "_________________________________________________________________\n",
      "conv2d_2 (Conv2D)            (None, 11, 11, 64)        18496     \n",
      "_________________________________________________________________\n",
      "max_pooling2d_2 (MaxPooling2 (None, 5, 5, 64)          0         \n",
      "_________________________________________________________________\n",
      "dropout_2 (Dropout)          (None, 5, 5, 64)          0         \n",
      "_________________________________________________________________\n",
      "conv2d_3 (Conv2D)            (None, 3, 3, 128)         73856     \n",
      "_________________________________________________________________\n",
      "dropout_3 (Dropout)          (None, 3, 3, 128)         0         \n",
      "_________________________________________________________________\n",
      "flatten_1 (Flatten)          (None, 1152)              0         \n",
      "_________________________________________________________________\n",
      "dense_1 (Dense)              (None, 128)               147584    \n",
      "_________________________________________________________________\n",
      "dropout_4 (Dropout)          (None, 128)               0         \n",
      "_________________________________________________________________\n",
      "dense_2 (Dense)              (None, 10)                1290      \n",
      "=================================================================\n",
      "Total params: 241,546\n",
      "Trainable params: 241,546\n",
      "Non-trainable params: 0\n",
      "_________________________________________________________________\n"
     ]
    }
   ],
   "source": [
    "model.summary()"
   ]
  },
  {
   "cell_type": "code",
   "execution_count": 12,
   "metadata": {
    "_cell_guid": "f24bf149-70e5-43f2-8574-117606493c85",
    "_uuid": "71b754f661ab2bba5e0d2c280d033a57300ef7e2",
    "scrolled": false
   },
   "outputs": [
    {
     "name": "stdout",
     "output_type": "stream",
     "text": [
      "Train on 48000 samples, validate on 12000 samples\n",
      "Epoch 1/50\n",
      "48000/48000 [==============================] - 262s 5ms/step - loss: 0.8764 - accuracy: 0.6762 - val_loss: 0.5234 - val_accuracy: 0.8100\n",
      "Epoch 2/50\n",
      "48000/48000 [==============================] - 58s 1ms/step - loss: 0.5316 - accuracy: 0.7994 - val_loss: 0.4179 - val_accuracy: 0.8478\n",
      "Epoch 3/50\n",
      "48000/48000 [==============================] - 58s 1ms/step - loss: 0.4553 - accuracy: 0.8317 - val_loss: 0.3727 - val_accuracy: 0.8602\n",
      "Epoch 4/50\n",
      "48000/48000 [==============================] - 58s 1ms/step - loss: 0.4090 - accuracy: 0.8508 - val_loss: 0.3481 - val_accuracy: 0.8727\n",
      "Epoch 5/50\n",
      "48000/48000 [==============================] - 58s 1ms/step - loss: 0.3762 - accuracy: 0.8643 - val_loss: 0.3153 - val_accuracy: 0.8863\n",
      "Epoch 6/50\n",
      "48000/48000 [==============================] - 57s 1ms/step - loss: 0.3550 - accuracy: 0.8728 - val_loss: 0.2992 - val_accuracy: 0.8911\n",
      "Epoch 7/50\n",
      "48000/48000 [==============================] - 57s 1ms/step - loss: 0.3390 - accuracy: 0.8761 - val_loss: 0.2972 - val_accuracy: 0.8909\n",
      "Epoch 8/50\n",
      "48000/48000 [==============================] - 57s 1ms/step - loss: 0.3216 - accuracy: 0.8821 - val_loss: 0.2852 - val_accuracy: 0.8933\n",
      "Epoch 9/50\n",
      "48000/48000 [==============================] - 57s 1ms/step - loss: 0.3089 - accuracy: 0.8876 - val_loss: 0.2730 - val_accuracy: 0.8988\n",
      "Epoch 10/50\n",
      "48000/48000 [==============================] - 57s 1ms/step - loss: 0.3006 - accuracy: 0.8896 - val_loss: 0.2625 - val_accuracy: 0.9027\n",
      "Epoch 11/50\n",
      "48000/48000 [==============================] - 57s 1ms/step - loss: 0.2926 - accuracy: 0.8923 - val_loss: 0.2606 - val_accuracy: 0.9032\n",
      "Epoch 12/50\n",
      "48000/48000 [==============================] - 57s 1ms/step - loss: 0.2882 - accuracy: 0.8946 - val_loss: 0.2590 - val_accuracy: 0.9042\n",
      "Epoch 13/50\n",
      "48000/48000 [==============================] - 60s 1ms/step - loss: 0.2813 - accuracy: 0.8966 - val_loss: 0.2539 - val_accuracy: 0.9038\n",
      "Epoch 14/50\n",
      "48000/48000 [==============================] - 55s 1ms/step - loss: 0.2736 - accuracy: 0.8998 - val_loss: 0.2475 - val_accuracy: 0.9101\n",
      "Epoch 15/50\n",
      "48000/48000 [==============================] - 54s 1ms/step - loss: 0.2683 - accuracy: 0.9015 - val_loss: 0.2465 - val_accuracy: 0.9082\n",
      "Epoch 16/50\n",
      "48000/48000 [==============================] - 53s 1ms/step - loss: 0.2610 - accuracy: 0.9043 - val_loss: 0.2425 - val_accuracy: 0.9104\n",
      "Epoch 17/50\n",
      "48000/48000 [==============================] - 53s 1ms/step - loss: 0.2579 - accuracy: 0.9040 - val_loss: 0.2419 - val_accuracy: 0.9082\n",
      "Epoch 18/50\n",
      "48000/48000 [==============================] - 53s 1ms/step - loss: 0.2514 - accuracy: 0.9057 - val_loss: 0.2365 - val_accuracy: 0.9128\n",
      "Epoch 19/50\n",
      "48000/48000 [==============================] - 53s 1ms/step - loss: 0.2473 - accuracy: 0.9069 - val_loss: 0.2347 - val_accuracy: 0.9133\n",
      "Epoch 20/50\n",
      "48000/48000 [==============================] - 56s 1ms/step - loss: 0.2450 - accuracy: 0.9095 - val_loss: 0.2330 - val_accuracy: 0.9147\n",
      "Epoch 21/50\n",
      "48000/48000 [==============================] - 53s 1ms/step - loss: 0.2417 - accuracy: 0.9094 - val_loss: 0.2316 - val_accuracy: 0.9152\n",
      "Epoch 22/50\n",
      "48000/48000 [==============================] - 52s 1ms/step - loss: 0.2367 - accuracy: 0.9124 - val_loss: 0.2350 - val_accuracy: 0.9149\n",
      "Epoch 23/50\n",
      "48000/48000 [==============================] - 56s 1ms/step - loss: 0.2364 - accuracy: 0.9113 - val_loss: 0.2316 - val_accuracy: 0.9141\n",
      "Epoch 24/50\n",
      "48000/48000 [==============================] - 60s 1ms/step - loss: 0.2322 - accuracy: 0.9131 - val_loss: 0.2332 - val_accuracy: 0.9121\n",
      "Epoch 25/50\n",
      "48000/48000 [==============================] - 52s 1ms/step - loss: 0.2282 - accuracy: 0.9148 - val_loss: 0.2253 - val_accuracy: 0.9163\n",
      "Epoch 26/50\n",
      "48000/48000 [==============================] - 55s 1ms/step - loss: 0.2285 - accuracy: 0.9145 - val_loss: 0.2255 - val_accuracy: 0.9169\n",
      "Epoch 27/50\n",
      "48000/48000 [==============================] - 61s 1ms/step - loss: 0.2232 - accuracy: 0.9164 - val_loss: 0.2269 - val_accuracy: 0.9159\n",
      "Epoch 28/50\n",
      "48000/48000 [==============================] - 228s 5ms/step - loss: 0.2185 - accuracy: 0.9167 - val_loss: 0.2252 - val_accuracy: 0.9189\n",
      "Epoch 29/50\n",
      "48000/48000 [==============================] - 54s 1ms/step - loss: 0.2208 - accuracy: 0.9168 - val_loss: 0.2246 - val_accuracy: 0.9169\n",
      "Epoch 30/50\n",
      "48000/48000 [==============================] - 51s 1ms/step - loss: 0.2180 - accuracy: 0.9178 - val_loss: 0.2213 - val_accuracy: 0.9171\n",
      "Epoch 31/50\n",
      "48000/48000 [==============================] - 53s 1ms/step - loss: 0.2125 - accuracy: 0.9201 - val_loss: 0.2185 - val_accuracy: 0.9203\n",
      "Epoch 32/50\n",
      "48000/48000 [==============================] - 52s 1ms/step - loss: 0.2127 - accuracy: 0.9202 - val_loss: 0.2280 - val_accuracy: 0.9176\n",
      "Epoch 33/50\n",
      "48000/48000 [==============================] - 55s 1ms/step - loss: 0.2103 - accuracy: 0.9220 - val_loss: 0.2222 - val_accuracy: 0.9190\n",
      "Epoch 34/50\n",
      "48000/48000 [==============================] - 79s 2ms/step - loss: 0.2092 - accuracy: 0.9196 - val_loss: 0.2190 - val_accuracy: 0.9203\n",
      "Epoch 35/50\n",
      "48000/48000 [==============================] - 58s 1ms/step - loss: 0.2070 - accuracy: 0.9232 - val_loss: 0.2227 - val_accuracy: 0.9181\n",
      "Epoch 36/50\n",
      "48000/48000 [==============================] - 52s 1ms/step - loss: 0.2070 - accuracy: 0.9223 - val_loss: 0.2206 - val_accuracy: 0.9197\n",
      "Epoch 37/50\n",
      "48000/48000 [==============================] - 52s 1ms/step - loss: 0.2018 - accuracy: 0.9244 - val_loss: 0.2181 - val_accuracy: 0.9203\n",
      "Epoch 38/50\n",
      "48000/48000 [==============================] - 52s 1ms/step - loss: 0.2021 - accuracy: 0.9232 - val_loss: 0.2195 - val_accuracy: 0.9192\n",
      "Epoch 39/50\n",
      "48000/48000 [==============================] - 52s 1ms/step - loss: 0.1991 - accuracy: 0.9248 - val_loss: 0.2150 - val_accuracy: 0.9217\n",
      "Epoch 40/50\n",
      "48000/48000 [==============================] - 52s 1ms/step - loss: 0.1962 - accuracy: 0.9262 - val_loss: 0.2127 - val_accuracy: 0.9231\n",
      "Epoch 41/50\n",
      "48000/48000 [==============================] - 52s 1ms/step - loss: 0.1991 - accuracy: 0.9253 - val_loss: 0.2192 - val_accuracy: 0.9207\n",
      "Epoch 42/50\n",
      "48000/48000 [==============================] - 53s 1ms/step - loss: 0.1977 - accuracy: 0.9257 - val_loss: 0.2162 - val_accuracy: 0.9218\n",
      "Epoch 43/50\n",
      "48000/48000 [==============================] - 52s 1ms/step - loss: 0.1935 - accuracy: 0.9278 - val_loss: 0.2285 - val_accuracy: 0.9182\n",
      "Epoch 44/50\n",
      "48000/48000 [==============================] - 52s 1ms/step - loss: 0.1933 - accuracy: 0.9263 - val_loss: 0.2244 - val_accuracy: 0.9195\n",
      "Epoch 45/50\n",
      "48000/48000 [==============================] - 52s 1ms/step - loss: 0.1944 - accuracy: 0.9264 - val_loss: 0.2186 - val_accuracy: 0.9198\n",
      "Epoch 46/50\n",
      "48000/48000 [==============================] - 52s 1ms/step - loss: 0.1925 - accuracy: 0.9268 - val_loss: 0.2157 - val_accuracy: 0.9233\n",
      "Epoch 47/50\n",
      "48000/48000 [==============================] - 52s 1ms/step - loss: 0.1915 - accuracy: 0.9258 - val_loss: 0.2187 - val_accuracy: 0.9214\n",
      "Epoch 48/50\n",
      "48000/48000 [==============================] - 52s 1ms/step - loss: 0.1858 - accuracy: 0.9292 - val_loss: 0.2180 - val_accuracy: 0.9222\n",
      "Epoch 49/50\n",
      "48000/48000 [==============================] - 52s 1ms/step - loss: 0.1896 - accuracy: 0.9279 - val_loss: 0.2354 - val_accuracy: 0.9143\n",
      "Epoch 50/50\n",
      "48000/48000 [==============================] - 52s 1ms/step - loss: 0.1902 - accuracy: 0.9280 - val_loss: 0.2153 - val_accuracy: 0.9227\n"
     ]
    }
   ],
   "source": [
    "history = model.fit(X_train, y_train,\n",
    "          batch_size=batch_size,\n",
    "          epochs=epochs,\n",
    "          verbose=1,\n",
    "          validation_data=(X_val, y_val))\n",
    "score = model.evaluate(X_test, y_test, verbose=0)"
   ]
  },
  {
   "cell_type": "code",
   "execution_count": 13,
   "metadata": {
    "_cell_guid": "f4b6cb78-1ef8-46ba-b72d-49a49c81bff0",
    "_uuid": "48787728c57ad402547540b5d528aabbd8b20c0d"
   },
   "outputs": [
    {
     "name": "stdout",
     "output_type": "stream",
     "text": [
      "Test loss: 0.19915939042568206\n",
      "Test accuracy: 0.9261000156402588\n"
     ]
    }
   ],
   "source": [
    "print('Test loss:', score[0])\n",
    "print('Test accuracy:', score[1])"
   ]
  },
  {
   "cell_type": "code",
   "execution_count": 21,
   "metadata": {
    "_cell_guid": "324c3a68-6381-4a39-a5a1-8fac766150c0",
    "_uuid": "042117c73a10d7cbda6bc42ab60f9b0407cdf2c1"
   },
   "outputs": [
    {
     "data": {
      "image/png": "[encoded data removed]",
      "text/plain": [
       "<Figure size 432x288 with 1 Axes>"
      ]
     },
     "metadata": {
      "needs_background": "light"
     },
     "output_type": "display_data"
    },
    {
     "data": {
      "image/png": "[encoded data removed]",
      "text/plain": [
       "<Figure size 432x288 with 1 Axes>"
      ]
     },
     "metadata": {
      "needs_background": "light"
     },
     "output_type": "display_data"
    }
   ],
   "source": [
    "import matplotlib.pyplot as plt\n",
    "%matplotlib inline\n",
    "accuracy = history.history['accuracy']\n",
    "#val_accuracy = history.history['val_acc']\n",
    "loss = history.history['loss']\n",
    "#val_loss = history.history['loss']\n",
    "epochs = range(len(accuracy))\n",
    "plt.plot(epochs, accuracy, 'bo', label='Training accuracy')\n",
    "#plt.plot(epochs, val_accuracy, 'b', label='Validation accuracy')\n",
    "plt.title('Training and validation accuracy')\n",
    "plt.legend()\n",
    "plt.figure()\n",
    "plt.plot(epochs, loss, 'bo', label='Training loss')\n",
    "#plt.plot(epochs, val_loss, 'b', label='Validation loss')\n",
    "plt.title('Training and validation loss')\n",
    "plt.legend()\n",
    "plt.show()"
   ]
  },
  {
   "cell_type": "code",
   "execution_count": null,
   "metadata": {},
   "outputs": [],
   "source": []
  }
 ],
 "metadata": {
  "kernelspec": {
   "display_name": "Python 3",
   "language": "python",
   "name": "python3"
  },
  "language_info": {
   "codemirror_mode": {
    "name": "ipython",
    "version": 3
   },
   "file_extension": ".py",
   "mimetype": "text/x-python",
   "name": "python",
   "nbconvert_exporter": "python",
   "pygments_lexer": "ipython3",
   "version": "3.6.10"
  }
 },
 "nbformat": 4,
 "nbformat_minor": 1
}
